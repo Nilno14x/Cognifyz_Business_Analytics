{
 "cells": [
  {
   "cell_type": "markdown",
   "id": "19a92962",
   "metadata": {},
   "source": [
    "# Task 6 : Savings Objectives"
   ]
  },
  {
   "cell_type": "markdown",
   "id": "0dea6795",
   "metadata": {},
   "source": [
    "## Identify and present main savings objectives"
   ]
  },
  {
   "cell_type": "code",
   "execution_count": null,
   "id": "0c54e762",
   "metadata": {},
   "outputs": [],
   "source": [
    "import pandas as pd\n",
    "file_path = \"Data_set 2 - Copy.csv\"\n",
    "df = pd.read_csv(file_path)"
   ]
  },
  {
   "cell_type": "code",
   "execution_count": 23,
   "id": "5a3f933c",
   "metadata": {},
   "outputs": [],
   "source": [
    "Objective = df[\"What are your savings objectives?\"]"
   ]
  },
  {
   "cell_type": "code",
   "execution_count": 29,
   "id": "00edcd99",
   "metadata": {},
   "outputs": [
    {
     "name": "stdout",
     "output_type": "stream",
     "text": [
      "Unique Savings Objectives: ['Retirement Plan' 'Health Care' 'Education']\n"
     ]
    }
   ],
   "source": [
    "unique_objective = Objective.unique()\n",
    "print(f\"Unique Savings Objectives:\", unique_objective)"
   ]
  },
  {
   "cell_type": "code",
   "execution_count": 32,
   "id": "554a0de7",
   "metadata": {},
   "outputs": [
    {
     "name": "stdout",
     "output_type": "stream",
     "text": [
      "\n",
      "Each Objective Counts:\n",
      "  Retirement Plan    24\n",
      "Health Care        13\n",
      "Education           3\n",
      "Name: What are your savings objectives?, dtype: int64\n"
     ]
    }
   ],
   "source": [
    "no_objective = Objective.value_counts()\n",
    "print(f\"\\nEach Objective Counts:\\n \", no_objective)"
   ]
  },
  {
   "cell_type": "code",
   "execution_count": 35,
   "id": "2c2fb788",
   "metadata": {},
   "outputs": [],
   "source": [
    "objective_list = {\n",
    "    'Retirement Plan': 'Saving money for use after retirement.',\n",
    "    'Health Care': 'Saving for medical and health-related expenses.',\n",
    "    'Education': 'Saving for education costs like tuition.'\n",
    "}"
   ]
  },
  {
   "cell_type": "code",
   "execution_count": 38,
   "id": "c9fb5342",
   "metadata": {},
   "outputs": [
    {
     "name": "stdout",
     "output_type": "stream",
     "text": [
      "\n",
      "Objective Descriptions:\n",
      "\n",
      "Retirement Plan: Saving money for use after retirement.\n",
      "Health Care: Saving for medical and health-related expenses.\n",
      "Education: Saving for education costs like tuition.\n"
     ]
    }
   ],
   "source": [
    "print(\"\\nObjective Descriptions:\\n\")\n",
    "\n",
    "for objective, description in objective_list.items():\n",
    "    print(f\"{objective}: {description}\")"
   ]
  }
 ],
 "metadata": {
  "kernelspec": {
   "display_name": "Python 3 (ipykernel)",
   "language": "python",
   "name": "python3"
  },
  "language_info": {
   "codemirror_mode": {
    "name": "ipython",
    "version": 3
   },
   "file_extension": ".py",
   "mimetype": "text/x-python",
   "name": "python",
   "nbconvert_exporter": "python",
   "pygments_lexer": "ipython3",
   "version": "3.10.10"
  }
 },
 "nbformat": 4,
 "nbformat_minor": 5
}
